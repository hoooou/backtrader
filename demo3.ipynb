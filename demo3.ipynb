{
 "cells": [
  {
   "cell_type": "code",
   "execution_count": null,
   "metadata": {},
   "outputs": [],
   "source": [
    "from datetime import datetime\n",
    "\n",
    "import akshare as ak  # 升级到最新版\n",
    "import backtrader as bt  # 升级到最新版\n",
    "import matplotlib.pyplot as plt  # 由于 Backtrader 的问题，此处要求 pip install matplotlib==3.2.2\n",
    "import pandas as pd\n",
    "import pyfolio as pf\n",
    "import quantstats as qs\n",
    "import platform\n",
    "import matplotlib.pyplot as plt\n",
    "from matplotlib import rcParams\n",
    "from matplotlib import font_manager\n",
    "\n",
    "def set_chinese_font():\n",
    "    system = platform.system()  # 获取操作系统名称\n",
    "    if system == \"Windows\":\n",
    "        # Windows 使用 SimHei\n",
    "        rcParams['font.sans-serif'] = ['STXihei']\n",
    "    elif system == \"Darwin\":\n",
    "        # macOS 使用 PingFang SC\n",
    "        rcParams['font.sans-serif'] = ['Heiti TC']\n",
    "    else:\n",
    "        # 其他系统提示用户自行安装字体\n",
    "        raise EnvironmentError(\"Unsupported OS. Please install a suitable Chinese font.\")\n",
    "\n",
    "    # 解决负号显示问题\n",
    "    rcParams['axes.unicode_minus'] = False\n",
    "\n",
    "# 设置字体\n",
    "set_chinese_font()\n",
    "# 利用 AKShare 获取股票的后复权数据，这里只获取前 6 列\n",
    "stock_hfq_df = ak.stock_zh_a_hist(symbol=\"600256\", adjust=\"hfq\").iloc[:, :7]\n",
    "# 删除 `股票代码` 列\n",
    "del stock_hfq_df['股票代码']\n",
    "# 处理字段命名，以符合 Backtrader 的要求\n",
    "stock_hfq_df.columns = [\n",
    "    \"date\",\n",
    "    \"open\",\n",
    "    \"close\",\n",
    "    \"high\",\n",
    "    \"low\",\n",
    "    \"volume\",\n",
    "]\n",
    "# 把 date 作为日期索引，以符合 Backtrader 的要求\n",
    "stock_hfq_df.index = pd.to_datetime(stock_hfq_df[\"date\"])\n",
    "\n",
    "class MyStrategy(bt.Strategy):\n",
    "    \"\"\"\n",
    "    主策略程序\n",
    "    \"\"\"\n",
    "    # 设定交易策略的参数\n",
    "    params = dict(\n",
    "        maperiod=20,\n",
    "    )\n",
    "    def __init__(self):\n",
    "        \"\"\"\n",
    "        初始化函数\n",
    "        \"\"\"\n",
    "        # 初始化交易指令、买卖价格和手续费\n",
    "        self.order = None\n",
    "        self.buy_price = None\n",
    "        self.buy_comm = None\n",
    "        # 添加移动均线指标\n",
    "        self.sma = bt.indicators.SimpleMovingAverage(\n",
    "            self.datas[0].lines.close, period=self.params.maperiod\n",
    "        )\n",
    "        self.sma.csv = True\n",
    "\n",
    "    def next(self):\n",
    "        \"\"\"\n",
    "        执行逻辑\n",
    "        \"\"\"\n",
    "        if self.order:  # 检查是否有指令等待执行，如果有未完成的订单则跳过\n",
    "            return\n",
    "        # 检查是否持仓\n",
    "        if not self.position:  # 没有持仓\n",
    "            # 执行买入条件判断：收盘价格上涨突破 20 日均线\n",
    "            if self.datas[0].lines.close[-1] < self.sma[-1] and self.datas[0].lines.close[0] > self.sma[0]:\n",
    "                self.order = self.buy(size=100)  # 执行买入\n",
    "        # 执行卖出条件判断：收盘价格跌破 20 日均线\n",
    "        elif self.datas[0].lines.close[-1] > self.sma[-1] and self.datas[0].lines.close[0] < self.sma[0]:\n",
    "            self.order = self.sell(size=100)  # 执行卖出\n"
   ]
  },
  {
   "cell_type": "code",
   "execution_count": null,
   "metadata": {},
   "outputs": [],
   "source": []
  },
  {
   "cell_type": "code",
   "execution_count": null,
   "metadata": {},
   "outputs": [],
   "source": [
    "cerebro = bt.Cerebro()  # 初始化回测系统\n",
    "start_date = datetime(2023, 4, 3)  # 回测开始时间\n",
    "end_date = datetime(2024, 9, 12)  # 回测结束时间\n",
    "data = bt.feeds.PandasData(\n",
    "    dataname=stock_hfq_df, fromdate=start_date, todate=end_date\n",
    ")  # 加载数据\n",
    "cerebro.adddata(data)  # 将数据传入回测系统\n",
    "cerebro.addstrategy(MyStrategy)  # 将交易策略加载到回测系统中\n",
    "\n",
    "# 添加观察者 PyFolio\n",
    "cerebro.addanalyzer(bt.analyzers.PyFolio, _name='PyFolio')\n",
    "# 添加书写者\n",
    "cerebro.addwriter(bt.WriterFile, csv=True, out=\"result.csv\")\n",
    "\n",
    "start_cash = 1000000\n",
    "cerebro.broker.setcash(start_cash)  # 设置初始资本为 100000\n",
    "cerebro.broker.setcommission(commission=0.002)  # 设置交易手续费为 0.2%\n",
    "result = cerebro.run()[0]  # 运行回测系统\n",
    "\n",
    "port_value = cerebro.broker.getvalue()  # 获取回测结束后的总资金\n",
    "pnl = port_value - start_cash  # 盈亏统计\n",
    "\n",
    "print(\n",
    "    f\"初始资金: {start_cash}\\n回测期间：{start_date.strftime('%Y%m%d')}:{end_date.strftime('%Y%m%d')}\"\n",
    ")\n",
    "print(f\"总资金: {round(port_value, 2)}\")\n",
    "print(f\"净收益: {round(pnl, 2)}\")\n",
    "\n",
    "# cerebro.plot(style=\"candlestick\")  # 画图\n",
    "\n",
    "portfolio_stats = result.analyzers.getbyname('PyFolio')\n",
    "returns, positions, transactions, gross_lev = portfolio_stats.get_pf_items()\n",
    "print(returns)\n",
    "pf.create_full_tear_sheet(returns)\n",
    "qs.reports.full(returns)\n",
    "\n",
    "qs.stats.sharpe(returns)\n",
    "qs.stats.conditional_value_at_risk(returns)\n",
    "\n",
    "help(qs.stats.conditional_value_at_risk)\n",
    "qs.extend_pandas()\n",
    "stock = qs.utils.download_returns('000001.SS')\n",
    "stock = stock[str(start_date):str(end_date)]\n",
    "stock.sharpe()\n",
    "qs.plots.snapshot(stock['000001.SS'], title='000001.SS')\n",
    "returns.index = returns.index.tz_convert(None)\n",
    "stock['000001.SS'].index=stock['000001.SS'].index.tz_convert(None)\n",
    "qs.reports.html(returns, benchmark=stock['000001.SS'],benchmark_title=\"Facebook\", output='stats.html', title='Report')  # 会在本地目录生成 html 文件，用游览器打开即可\n"
   ]
  },
  {
   "cell_type": "code",
   "execution_count": null,
   "metadata": {},
   "outputs": [],
   "source": [
    "import matplotlib\n",
    "from matplotlib import font_manager\n",
    " \n",
    "font_list=sorted([f.name for f in matplotlib.font_manager.fontManager.ttflist])\n",
    "for i in font_list:\n",
    "    print(i)"
   ]
  },
  {
   "cell_type": "code",
   "execution_count": null,
   "metadata": {},
   "outputs": [],
   "source": [
    "from datetime import datetime,date\n",
    "\n",
    "def generate_quarters(today):\n",
    "    \"\"\"\n",
    "    动态生成从三年前最近的季度末到当前季度末的所有季度时间点\n",
    "    \"\"\"\n",
    "    # 计算当前日期最近的季度末日期\n",
    "    if today.month in [1, 2, 3]:\n",
    "        end_date = date(today.year, 3, 31)\n",
    "    elif today.month in [4, 5, 6]:\n",
    "        end_date = date(today.year, 6, 30)\n",
    "    elif today.month in [7, 8, 9]:\n",
    "        end_date = date(today.year, 9, 30)\n",
    "    else:  # 10, 11, 12\n",
    "        end_date = date(today.year, 12, 31)\n",
    "\n",
    "    # 计算三年前最近的季度末日期\n",
    "    start_date = end_date.replace(year=end_date.year - 3)\n",
    "\n",
    "    # 存储季度列表\n",
    "    quarters = []\n",
    "    current_date = start_date\n",
    "\n",
    "    # 生成从 start_date 到 end_date 的季度列表\n",
    "    while current_date <= end_date:\n",
    "        if current_date.month in [1, 2, 3]:\n",
    "            quarter_end = f\"{current_date.year}0331\"\n",
    "        elif current_date.month in [4, 5, 6]:\n",
    "            quarter_end = f\"{current_date.year}0630\"\n",
    "        elif current_date.month in [7, 8, 9]:\n",
    "            quarter_end = f\"{current_date.year}0930\"\n",
    "        elif current_date.month in [10, 11, 12]:\n",
    "            quarter_end = f\"{current_date.year}1231\"\n",
    "\n",
    "        quarters.append(quarter_end)\n",
    "\n",
    "        # 跳到下一个季度\n",
    "        if current_date.month in [1, 2, 3]:\n",
    "            current_date = date(current_date.year, 4, 1)\n",
    "        elif current_date.month in [4, 5, 6]:\n",
    "            current_date = date(current_date.year, 7, 1)\n",
    "        elif current_date.month in [7, 8, 9]:\n",
    "            current_date = date(current_date.year, 10, 1)\n",
    "        elif current_date.month in [10, 11, 12]:\n",
    "            current_date = date(current_date.year + 1, 1, 1)\n",
    "\n",
    "    return quarters"
   ]
  },
  {
   "cell_type": "code",
   "execution_count": 126,
   "metadata": {},
   "outputs": [
    {
     "data": {
      "application/vnd.jupyter.widget-view+json": {
       "model_id": "bc812d6526554cdda52165be86c5b4dc",
       "version_major": 2,
       "version_minor": 0
      },
      "text/plain": [
       "  0%|          | 0/7 [00:00<?, ?it/s]"
      ]
     },
     "metadata": {},
     "output_type": "display_data"
    },
    {
     "data": {
      "application/vnd.jupyter.widget-view+json": {
       "model_id": "629951bdb63242c498c4d01b2a79ef0f",
       "version_major": 2,
       "version_minor": 0
      },
      "text/plain": [
       "  0%|          | 0/1 [00:00<?, ?it/s]"
      ]
     },
     "metadata": {},
     "output_type": "display_data"
    },
    {
     "data": {
      "application/vnd.jupyter.widget-view+json": {
       "model_id": "0043ccb985e44a5aaf879a389187010f",
       "version_major": 2,
       "version_minor": 0
      },
      "text/plain": [
       "  0%|          | 0/1 [00:00<?, ?it/s]"
      ]
     },
     "metadata": {},
     "output_type": "display_data"
    },
    {
     "data": {
      "application/vnd.jupyter.widget-view+json": {
       "model_id": "3e58b70aa844418f816dc97857672411",
       "version_major": 2,
       "version_minor": 0
      },
      "text/plain": [
       "  0%|          | 0/1 [00:00<?, ?it/s]"
      ]
     },
     "metadata": {},
     "output_type": "display_data"
    },
    {
     "data": {
      "application/vnd.jupyter.widget-view+json": {
       "model_id": "405b9ff398894e2e816903ae88fb6247",
       "version_major": 2,
       "version_minor": 0
      },
      "text/plain": [
       "  0%|          | 0/7 [00:00<?, ?it/s]"
      ]
     },
     "metadata": {},
     "output_type": "display_data"
    },
    {
     "data": {
      "application/vnd.jupyter.widget-view+json": {
       "model_id": "a8ae368f715945d88f60a2b1539d6131",
       "version_major": 2,
       "version_minor": 0
      },
      "text/plain": [
       "  0%|          | 0/1 [00:00<?, ?it/s]"
      ]
     },
     "metadata": {},
     "output_type": "display_data"
    },
    {
     "data": {
      "application/vnd.jupyter.widget-view+json": {
       "model_id": "ed58c35a7732483cace4debfccd64e98",
       "version_major": 2,
       "version_minor": 0
      },
      "text/plain": [
       "  0%|          | 0/1 [00:00<?, ?it/s]"
      ]
     },
     "metadata": {},
     "output_type": "display_data"
    },
    {
     "data": {
      "application/vnd.jupyter.widget-view+json": {
       "model_id": "22ef21c8b1104d8b98f89f468d86102c",
       "version_major": 2,
       "version_minor": 0
      },
      "text/plain": [
       "  0%|          | 0/1 [00:00<?, ?it/s]"
      ]
     },
     "metadata": {},
     "output_type": "display_data"
    },
    {
     "data": {
      "application/vnd.jupyter.widget-view+json": {
       "model_id": "690b66d6718d4cce9cd2adce64968f74",
       "version_major": 2,
       "version_minor": 0
      },
      "text/plain": [
       "  0%|          | 0/8 [00:00<?, ?it/s]"
      ]
     },
     "metadata": {},
     "output_type": "display_data"
    },
    {
     "data": {
      "application/vnd.jupyter.widget-view+json": {
       "model_id": "e4ad04bf20e1415c8d8e1e9d4a822f25",
       "version_major": 2,
       "version_minor": 0
      },
      "text/plain": [
       "  0%|          | 0/1 [00:00<?, ?it/s]"
      ]
     },
     "metadata": {},
     "output_type": "display_data"
    },
    {
     "data": {
      "application/vnd.jupyter.widget-view+json": {
       "model_id": "dad0707073a94a06b5630a66974216ac",
       "version_major": 2,
       "version_minor": 0
      },
      "text/plain": [
       "  0%|          | 0/2 [00:00<?, ?it/s]"
      ]
     },
     "metadata": {},
     "output_type": "display_data"
    },
    {
     "data": {
      "application/vnd.jupyter.widget-view+json": {
       "model_id": "76355e8f16cd4a90a7ae688f1bc0baad",
       "version_major": 2,
       "version_minor": 0
      },
      "text/plain": [
       "  0%|          | 0/1 [00:00<?, ?it/s]"
      ]
     },
     "metadata": {},
     "output_type": "display_data"
    },
    {
     "data": {
      "application/vnd.jupyter.widget-view+json": {
       "model_id": "b55fe49c8ea547539d9730b5d37a8cd6",
       "version_major": 2,
       "version_minor": 0
      },
      "text/plain": [
       "  0%|          | 0/1 [00:00<?, ?it/s]"
      ]
     },
     "metadata": {},
     "output_type": "display_data"
    },
    {
     "name": "stdout",
     "output_type": "stream",
     "text": [
      "start:2023-11-18 00:00:00\n",
      "end:2024-11-17 00:00:00\n"
     ]
    },
    {
     "data": {
      "text/html": [
       "<div>\n",
       "<style scoped>\n",
       "    .dataframe tbody tr th:only-of-type {\n",
       "        vertical-align: middle;\n",
       "    }\n",
       "\n",
       "    .dataframe tbody tr th {\n",
       "        vertical-align: top;\n",
       "    }\n",
       "\n",
       "    .dataframe thead th {\n",
       "        text-align: right;\n",
       "    }\n",
       "</style>\n",
       "<table border=\"1\" class=\"dataframe\">\n",
       "  <thead>\n",
       "    <tr style=\"text-align: right;\">\n",
       "      <th></th>\n",
       "      <th>代码</th>\n",
       "      <th>现金分红-现金分红比例</th>\n",
       "      <th>现金分红-股息率</th>\n",
       "    </tr>\n",
       "  </thead>\n",
       "  <tbody>\n",
       "    <tr>\n",
       "      <th>0</th>\n",
       "      <td>002582</td>\n",
       "      <td>10.0</td>\n",
       "      <td>0.164501</td>\n",
       "    </tr>\n",
       "    <tr>\n",
       "      <th>1</th>\n",
       "      <td>002303</td>\n",
       "      <td>4.5</td>\n",
       "      <td>0.160173</td>\n",
       "    </tr>\n",
       "    <tr>\n",
       "      <th>2</th>\n",
       "      <td>000517</td>\n",
       "      <td>3.2</td>\n",
       "      <td>0.120755</td>\n",
       "    </tr>\n",
       "    <tr>\n",
       "      <th>3</th>\n",
       "      <td>603897</td>\n",
       "      <td>22.0</td>\n",
       "      <td>0.109311</td>\n",
       "    </tr>\n",
       "    <tr>\n",
       "      <th>4</th>\n",
       "      <td>873679</td>\n",
       "      <td>13.0</td>\n",
       "      <td>0.098499</td>\n",
       "    </tr>\n",
       "    <tr>\n",
       "      <th>...</th>\n",
       "      <td>...</td>\n",
       "      <td>...</td>\n",
       "      <td>...</td>\n",
       "    </tr>\n",
       "    <tr>\n",
       "      <th>3923</th>\n",
       "      <td>003026</td>\n",
       "      <td>0.0</td>\n",
       "      <td>0.000000</td>\n",
       "    </tr>\n",
       "    <tr>\n",
       "      <th>3924</th>\n",
       "      <td>301037</td>\n",
       "      <td>0.0</td>\n",
       "      <td>0.000000</td>\n",
       "    </tr>\n",
       "    <tr>\n",
       "      <th>3925</th>\n",
       "      <td>603155</td>\n",
       "      <td>0.0</td>\n",
       "      <td>0.000000</td>\n",
       "    </tr>\n",
       "    <tr>\n",
       "      <th>3926</th>\n",
       "      <td>688598</td>\n",
       "      <td>0.0</td>\n",
       "      <td>0.000000</td>\n",
       "    </tr>\n",
       "    <tr>\n",
       "      <th>3927</th>\n",
       "      <td>688130</td>\n",
       "      <td>0.0</td>\n",
       "      <td>0.000000</td>\n",
       "    </tr>\n",
       "  </tbody>\n",
       "</table>\n",
       "<p>3928 rows × 3 columns</p>\n",
       "</div>"
      ],
      "text/plain": [
       "          代码  现金分红-现金分红比例  现金分红-股息率\n",
       "0     002582         10.0  0.164501\n",
       "1     002303          4.5  0.160173\n",
       "2     000517          3.2  0.120755\n",
       "3     603897         22.0  0.109311\n",
       "4     873679         13.0  0.098499\n",
       "...      ...          ...       ...\n",
       "3923  003026          0.0  0.000000\n",
       "3924  301037          0.0  0.000000\n",
       "3925  603155          0.0  0.000000\n",
       "3926  688598          0.0  0.000000\n",
       "3927  688130          0.0  0.000000\n",
       "\n",
       "[3928 rows x 3 columns]"
      ]
     },
     "execution_count": 126,
     "metadata": {},
     "output_type": "execute_result"
    }
   ],
   "source": [
    "from datetime import timedelta,datetime\n",
    "import akshare as ak\n",
    "# 根据当前时间,往前推四个季度,df合并,然后筛选股权登记日在开始时间和结束时间内的\n",
    "# 调用函数生成季度时间点\n",
    "    # 获取当前日期\n",
    "end_date_str = \"2024-11-18\"\n",
    "# 转换为 datetime 对象\n",
    "end_date_obj = datetime.strptime(end_date_str, \"%Y-%m-%d\")- timedelta(days=1)\n",
    "quarters = generate_quarters(end_date_obj)\n",
    "start_date_obj = end_date_obj - timedelta(days=365)\n",
    "\n",
    "df=pd.DataFrame()\n",
    "for tt in quarters:\n",
    "    df=pd.concat([df,ak.stock_fhps_em(date=tt)], ignore_index=True)\n",
    "# 转换股权登记日为 datetime 格式\n",
    "df[\"股权登记日\"] = pd.to_datetime(df[\"股权登记日\"])\n",
    "# 筛选股权登记日在范围内的记录\n",
    "print(f\"start:{start_date_obj}\")\n",
    "print(f\"end:{end_date_obj}\")\n",
    "filtered_df = df[(df[\"股权登记日\"] >= pd.Timestamp(start_date)) & (df[\"股权登记日\"] <= pd.Timestamp(end_date))]\n",
    "result_df = filtered_df[[\"代码\",\"现金分红-现金分红比例\",\"现金分红-股息率\"]].groupby(['代码']).sum().sort_values(by='现金分红-股息率', ascending=False).reset_index()\n",
    "# 从大到小排的股息\n",
    "result_df"
   ]
  },
  {
   "cell_type": "code",
   "execution_count": 125,
   "metadata": {},
   "outputs": [
    {
     "data": {
      "text/html": [
       "<div>\n",
       "<style scoped>\n",
       "    .dataframe tbody tr th:only-of-type {\n",
       "        vertical-align: middle;\n",
       "    }\n",
       "\n",
       "    .dataframe tbody tr th {\n",
       "        vertical-align: top;\n",
       "    }\n",
       "\n",
       "    .dataframe thead th {\n",
       "        text-align: right;\n",
       "    }\n",
       "</style>\n",
       "<table border=\"1\" class=\"dataframe\">\n",
       "  <thead>\n",
       "    <tr style=\"text-align: right;\">\n",
       "      <th></th>\n",
       "      <th>代码</th>\n",
       "      <th>名称</th>\n",
       "      <th>送转股份-送转总比例</th>\n",
       "      <th>送转股份-送转比例</th>\n",
       "      <th>送转股份-转股比例</th>\n",
       "      <th>现金分红-现金分红比例</th>\n",
       "      <th>现金分红-股息率</th>\n",
       "      <th>每股收益</th>\n",
       "      <th>每股净资产</th>\n",
       "      <th>每股公积金</th>\n",
       "      <th>每股未分配利润</th>\n",
       "      <th>净利润同比增长</th>\n",
       "      <th>总股本</th>\n",
       "      <th>预案公告日</th>\n",
       "      <th>股权登记日</th>\n",
       "      <th>除权除息日</th>\n",
       "      <th>方案进度</th>\n",
       "      <th>最新公告日期</th>\n",
       "    </tr>\n",
       "  </thead>\n",
       "  <tbody>\n",
       "    <tr>\n",
       "      <th>4640</th>\n",
       "      <td>001368</td>\n",
       "      <td>通达创智</td>\n",
       "      <td>NaN</td>\n",
       "      <td>NaN</td>\n",
       "      <td>NaN</td>\n",
       "      <td>2.0</td>\n",
       "      <td>0.007965</td>\n",
       "      <td>1.57</td>\n",
       "      <td>8.391734</td>\n",
       "      <td>3.939764</td>\n",
       "      <td>3.037073</td>\n",
       "      <td>0.221037</td>\n",
       "      <td>112000000</td>\n",
       "      <td>2023-04-28</td>\n",
       "      <td>2023-05-31</td>\n",
       "      <td>2023-06-01</td>\n",
       "      <td>实施分配</td>\n",
       "      <td>2023-05-25</td>\n",
       "    </tr>\n",
       "    <tr>\n",
       "      <th>7397</th>\n",
       "      <td>001368</td>\n",
       "      <td>通达创智</td>\n",
       "      <td>NaN</td>\n",
       "      <td>NaN</td>\n",
       "      <td>NaN</td>\n",
       "      <td>8.0</td>\n",
       "      <td>0.037523</td>\n",
       "      <td>0.96</td>\n",
       "      <td>12.569543</td>\n",
       "      <td>8.276328</td>\n",
       "      <td>2.900093</td>\n",
       "      <td>-23.183556</td>\n",
       "      <td>113867600</td>\n",
       "      <td>2024-03-28</td>\n",
       "      <td>2024-04-26</td>\n",
       "      <td>2024-04-29</td>\n",
       "      <td>实施分配</td>\n",
       "      <td>2024-04-20</td>\n",
       "    </tr>\n",
       "    <tr>\n",
       "      <th>12134</th>\n",
       "      <td>001368</td>\n",
       "      <td>通达创智</td>\n",
       "      <td>NaN</td>\n",
       "      <td>NaN</td>\n",
       "      <td>NaN</td>\n",
       "      <td>6.5</td>\n",
       "      <td>0.030531</td>\n",
       "      <td>0.74</td>\n",
       "      <td>12.423582</td>\n",
       "      <td>8.418372</td>\n",
       "      <td>2.789255</td>\n",
       "      <td>3.603177</td>\n",
       "      <td>113867600</td>\n",
       "      <td>2024-08-29</td>\n",
       "      <td>2024-11-25</td>\n",
       "      <td>2024-11-26</td>\n",
       "      <td>实施分配</td>\n",
       "      <td>2024-11-20</td>\n",
       "    </tr>\n",
       "  </tbody>\n",
       "</table>\n",
       "</div>"
      ],
      "text/plain": [
       "           代码    名称  送转股份-送转总比例  送转股份-送转比例  送转股份-转股比例  现金分红-现金分红比例  现金分红-股息率  \\\n",
       "4640   001368  通达创智         NaN        NaN        NaN          2.0  0.007965   \n",
       "7397   001368  通达创智         NaN        NaN        NaN          8.0  0.037523   \n",
       "12134  001368  通达创智         NaN        NaN        NaN          6.5  0.030531   \n",
       "\n",
       "       每股收益      每股净资产     每股公积金   每股未分配利润    净利润同比增长        总股本       预案公告日  \\\n",
       "4640   1.57   8.391734  3.939764  3.037073   0.221037  112000000  2023-04-28   \n",
       "7397   0.96  12.569543  8.276328  2.900093 -23.183556  113867600  2024-03-28   \n",
       "12134  0.74  12.423582  8.418372  2.789255   3.603177  113867600  2024-08-29   \n",
       "\n",
       "           股权登记日       除权除息日  方案进度      最新公告日期  \n",
       "4640  2023-05-31  2023-06-01  实施分配  2023-05-25  \n",
       "7397  2024-04-26  2024-04-29  实施分配  2024-04-20  \n",
       "12134 2024-11-25  2024-11-26  实施分配  2024-11-20  "
      ]
     },
     "execution_count": 125,
     "metadata": {},
     "output_type": "execute_result"
    }
   ],
   "source": [
    "df[df.代码==\"001368\"]\n"
   ]
  },
  {
   "cell_type": "code",
   "execution_count": null,
   "metadata": {},
   "outputs": [
    {
     "data": {
      "text/html": [
       "<div>\n",
       "<style scoped>\n",
       "    .dataframe tbody tr th:only-of-type {\n",
       "        vertical-align: middle;\n",
       "    }\n",
       "\n",
       "    .dataframe tbody tr th {\n",
       "        vertical-align: top;\n",
       "    }\n",
       "\n",
       "    .dataframe thead th {\n",
       "        text-align: right;\n",
       "    }\n",
       "</style>\n",
       "<table border=\"1\" class=\"dataframe\">\n",
       "  <thead>\n",
       "    <tr style=\"text-align: right;\">\n",
       "      <th></th>\n",
       "      <th>代码</th>\n",
       "      <th>现金分红-现金分红比例</th>\n",
       "      <th>现金分红-股息率</th>\n",
       "    </tr>\n",
       "  </thead>\n",
       "  <tbody>\n",
       "    <tr>\n",
       "      <th>7252</th>\n",
       "      <td>601919</td>\n",
       "      <td>5.1</td>\n",
       "      <td>0.048159</td>\n",
       "    </tr>\n",
       "    <tr>\n",
       "      <th>9487</th>\n",
       "      <td>601919</td>\n",
       "      <td>2.3</td>\n",
       "      <td>0.014763</td>\n",
       "    </tr>\n",
       "  </tbody>\n",
       "</table>\n",
       "</div>"
      ],
      "text/plain": [
       "          代码  现金分红-现金分红比例  现金分红-股息率\n",
       "7252  601919          5.1  0.048159\n",
       "9487  601919          2.3  0.014763"
      ]
     },
     "execution_count": 110,
     "metadata": {},
     "output_type": "execute_result"
    }
   ],
   "source": []
  },
  {
   "cell_type": "code",
   "execution_count": null,
   "metadata": {},
   "outputs": [],
   "source": [
    "stock_fhps_em_df[stock_fhps_em_df.代码==\"002582\"]\n",
    "stock_fhps_em_df"
   ]
  }
 ],
 "metadata": {
  "kernelspec": {
   "display_name": "Python 3",
   "language": "python",
   "name": "python3"
  },
  "language_info": {
   "codemirror_mode": {
    "name": "ipython",
    "version": 3
   },
   "file_extension": ".py",
   "mimetype": "text/x-python",
   "name": "python",
   "nbconvert_exporter": "python",
   "pygments_lexer": "ipython3",
   "version": "3.11.10"
  }
 },
 "nbformat": 4,
 "nbformat_minor": 2
}
